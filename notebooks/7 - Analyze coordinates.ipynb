{
 "cells": [
  {
   "cell_type": "markdown",
   "metadata": {
    "deletable": false,
    "editable": false
   },
   "source": [
    "# Analyze coordinates"
   ]
  },
  {
   "cell_type": "code",
   "execution_count": 1,
   "metadata": {
    "ExecuteTime": {
     "end_time": "2022-04-25T22:44:30.691417Z",
     "start_time": "2022-04-25T22:44:26.966941Z"
    },
    "deletable": false,
    "editable": false
   },
   "outputs": [
    {
     "name": "stdout",
     "output_type": "stream",
     "text": [
      "Big-FISH version: 0.6.2\n"
     ]
    }
   ],
   "source": [
    "import os\n",
    "import pandas as pd\n",
    "import numpy as np\n",
    "import bigfish\n",
    "import bigfish.stack as stack\n",
    "import bigfish.classification as classification\n",
    "import bigfish.plot as plot\n",
    "print(\"Big-FISH version: {0}\".format(bigfish.__version__))"
   ]
  },
  {
   "cell_type": "code",
   "execution_count": 2,
   "metadata": {
    "ExecuteTime": {
     "end_time": "2022-04-25T22:44:30.707501Z",
     "start_time": "2022-04-25T22:44:30.698846Z"
    },
    "deletable": false,
    "editable": false
   },
   "outputs": [],
   "source": [
    "# hard-code the paths of our input and output directories\n",
    "path_output = \"../data/output\""
   ]
  },
  {
   "cell_type": "markdown",
   "metadata": {
    "deletable": false,
    "editable": false
   },
   "source": [
    "In this notebook, we show examples to **compute features** for each cell. We reuse extracted results from the previous notebook: *6 - Extract cell level results*. We can read these results with a dedicated function `bigfish.stack.read_cell_extracted`."
   ]
  },
  {
   "cell_type": "code",
   "execution_count": 3,
   "metadata": {
    "ExecuteTime": {
     "end_time": "2022-04-25T22:44:30.762495Z",
     "start_time": "2022-04-25T22:44:30.714529Z"
    },
    "deletable": false,
    "editable": false
   },
   "outputs": [
    {
     "name": "stdout",
     "output_type": "stream",
     "text": [
      "Available keys: cell_id, bbox, cell_coord, cell_mask, nuc_coord, nuc_mask, rna_coord, foci, transcription_site, image, dapi, smfish \n",
      "\n",
      "cell mask\n",
      "\r",
      " shape: (520, 269)\n",
      "\r",
      " dtype: bool \n",
      "\n",
      "nucleus mask\n",
      "\r",
      " shape: (520, 269)\n",
      "\r",
      " dtype: bool \n",
      "\n",
      "RNAs coordinates\n",
      "\r",
      " shape: (585, 4)\n",
      "\r",
      " dtype: int64 \n",
      "\n",
      "foci coordinates\n",
      "\r",
      " shape: (7, 5)\n",
      "\r",
      " dtype: int64 \n",
      "\n",
      "smfish channel\n",
      "\r",
      " shape: (520, 269)\n",
      "\r",
      " dtype: uint16\n"
     ]
    }
   ],
   "source": [
    "# load single cell data\n",
    "path = os.path.join(path_output, \"results_cell_0.npz\")\n",
    "data = stack.read_cell_extracted(path, verbose=True)\n",
    "\n",
    "cell_mask = data[\"cell_mask\"]\n",
    "print(\"cell mask\")\n",
    "print(\"\\r shape: {0}\".format(cell_mask.shape))\n",
    "print(\"\\r dtype: {0}\".format(cell_mask.dtype), \"\\n\")\n",
    "\n",
    "nuc_mask = data[\"nuc_mask\"]\n",
    "print(\"nucleus mask\")\n",
    "print(\"\\r shape: {0}\".format(nuc_mask.shape))\n",
    "print(\"\\r dtype: {0}\".format(nuc_mask.dtype), \"\\n\")\n",
    "\n",
    "rna_coord = data[\"rna_coord\"]\n",
    "print(\"RNAs coordinates\")\n",
    "print(\"\\r shape: {0}\".format(rna_coord.shape))\n",
    "print(\"\\r dtype: {0}\".format(rna_coord.dtype), \"\\n\")\n",
    "\n",
    "foci_coord = data[\"foci\"]\n",
    "print(\"foci coordinates\")\n",
    "print(\"\\r shape: {0}\".format(foci_coord.shape))\n",
    "print(\"\\r dtype: {0}\".format(foci_coord.dtype), \"\\n\")\n",
    "\n",
    "smfish = data[\"smfish\"]\n",
    "print(\"smfish channel\")\n",
    "print(\"\\r shape: {0}\".format(smfish.shape))\n",
    "print(\"\\r dtype: {0}\".format(smfish.dtype))"
   ]
  },
  {
   "cell_type": "markdown",
   "metadata": {
    "deletable": false,
    "editable": false
   },
   "source": [
    "Different group of features are available. We can get the feature names with `bigfish.classification.get_features_name` and their value with `bigfish.classification.compute_features`."
   ]
  },
  {
   "cell_type": "markdown",
   "metadata": {
    "deletable": false,
    "editable": false
   },
   "source": [
    "## Hand-crafted features"
   ]
  },
  {
   "cell_type": "markdown",
   "metadata": {
    "deletable": false,
    "editable": false
   },
   "source": [
    "**Distance related features** compute the mean or median distance of RNAs to cellular or nuclear membrane. Distances are normalized by the expected distance in case of uniform RNAs distribution (*index* features)."
   ]
  },
  {
   "cell_type": "code",
   "execution_count": 4,
   "metadata": {
    "ExecuteTime": {
     "end_time": "2022-04-25T22:44:30.793474Z",
     "start_time": "2022-04-25T22:44:30.776981Z"
    },
    "deletable": false,
    "editable": false
   },
   "outputs": [
    {
     "data": {
      "text/plain": [
       "['index_mean_distance_cell',\n",
       " 'index_median_distance_cell',\n",
       " 'index_mean_distance_nuc',\n",
       " 'index_median_distance_nuc']"
      ]
     },
     "execution_count": 4,
     "metadata": {},
     "output_type": "execute_result"
    }
   ],
   "source": [
    "# get distance feature names\n",
    "feature_names = classification.get_features_name(names_features_distance=True)\n",
    "feature_names"
   ]
  },
  {
   "cell_type": "markdown",
   "metadata": {
    "deletable": false,
    "editable": false
   },
   "source": [
    "**Intranuclear features** compute RNAs proportion inside nucleus."
   ]
  },
  {
   "cell_type": "code",
   "execution_count": 5,
   "metadata": {
    "ExecuteTime": {
     "end_time": "2022-04-25T22:44:30.818382Z",
     "start_time": "2022-04-25T22:44:30.808028Z"
    },
    "deletable": false,
    "editable": false
   },
   "outputs": [
    {
     "data": {
      "text/plain": [
       "['proportion_rna_in_nuc', 'nb_rna_out_nuc', 'nb_rna_in_nuc']"
      ]
     },
     "execution_count": 5,
     "metadata": {},
     "output_type": "execute_result"
    }
   ],
   "source": [
    "# get intranuclear feature names\n",
    "feature_names = classification.get_features_name(names_features_intranuclear=True)\n",
    "feature_names"
   ]
  },
  {
   "cell_type": "markdown",
   "metadata": {
    "deletable": false,
    "editable": false
   },
   "source": [
    "**Protrusion related features** compute the number of RNAs detected in a cell protrusion. The count of RNAs is normalized by the expected count in case of uniform RNAs distribution (*index_rna_protrusion*) or the total number of RNAs (*proportion_rna_protrusion*)."
   ]
  },
  {
   "cell_type": "code",
   "execution_count": 6,
   "metadata": {
    "ExecuteTime": {
     "end_time": "2022-04-25T22:44:30.832464Z",
     "start_time": "2022-04-25T22:44:30.822810Z"
    },
    "deletable": false,
    "editable": false
   },
   "outputs": [
    {
     "data": {
      "text/plain": [
       "['index_rna_protrusion', 'proportion_rna_protrusion', 'protrusion_area']"
      ]
     },
     "execution_count": 6,
     "metadata": {},
     "output_type": "execute_result"
    }
   ],
   "source": [
    "# get protrusion feature names\n",
    "feature_names = classification.get_features_name(names_features_protrusion=True)\n",
    "feature_names"
   ]
  },
  {
   "cell_type": "markdown",
   "metadata": {
    "deletable": false,
    "editable": false
   },
   "source": [
    "**Dispersion features** compute dispersion indices describe in [(Stueland et al. 2019)](https://www.nature.com/articles/s41598-019-44783-2). A high index means a high level of RNAs polarization or dispersion within the cell."
   ]
  },
  {
   "cell_type": "code",
   "execution_count": 7,
   "metadata": {
    "ExecuteTime": {
     "end_time": "2022-04-25T22:44:30.841325Z",
     "start_time": "2022-04-25T22:44:30.834709Z"
    },
    "deletable": false,
    "editable": false
   },
   "outputs": [
    {
     "data": {
      "text/plain": [
       "['index_polarization', 'index_dispersion', 'index_peripheral_distribution']"
      ]
     },
     "execution_count": 7,
     "metadata": {},
     "output_type": "execute_result"
    }
   ],
   "source": [
    "# get dispersion feature names\n",
    "feature_names = classification.get_features_name(names_features_dispersion=True)\n",
    "feature_names"
   ]
  },
  {
   "cell_type": "markdown",
   "metadata": {
    "deletable": false,
    "editable": false
   },
   "source": [
    "**Topographic features** compute the number of RNAs detected in specific cellular subregions. These regions are defined by concentric circles around the nucleus (every 500 nanometers) or the cellular membrane. The count of RNAs is normalized by the expected count in case of uniform RNAs distribution (*index* features) or the total number of RNAs (*proportion* features). For example, *proportion_rna_cell_radius_500_1000* is the proportion of RNAs detected between 500nm and 1000nm from the cellular membrane."
   ]
  },
  {
   "cell_type": "code",
   "execution_count": 8,
   "metadata": {
    "ExecuteTime": {
     "end_time": "2022-04-25T22:44:30.854512Z",
     "start_time": "2022-04-25T22:44:30.844746Z"
    },
    "deletable": false,
    "editable": false
   },
   "outputs": [
    {
     "data": {
      "text/plain": [
       "['index_rna_nuc_edge',\n",
       " 'proportion_rna_nuc_edge',\n",
       " 'index_rna_nuc_radius_500_1000',\n",
       " 'proportion_rna_nuc_radius_500_1000',\n",
       " 'index_rna_nuc_radius_1000_1500',\n",
       " 'proportion_rna_nuc_radius_1000_1500',\n",
       " 'index_rna_nuc_radius_1500_2000',\n",
       " 'proportion_rna_nuc_radius_1500_2000',\n",
       " 'index_rna_nuc_radius_2000_2500',\n",
       " 'proportion_rna_nuc_radius_2000_2500',\n",
       " 'index_rna_nuc_radius_2500_3000',\n",
       " 'proportion_rna_nuc_radius_2500_3000',\n",
       " 'index_rna_cell_radius_0_500',\n",
       " 'proportion_rna_cell_radius_0_500',\n",
       " 'index_rna_cell_radius_500_1000',\n",
       " 'proportion_rna_cell_radius_500_1000',\n",
       " 'index_rna_cell_radius_1000_1500',\n",
       " 'proportion_rna_cell_radius_1000_1500',\n",
       " 'index_rna_cell_radius_1500_2000',\n",
       " 'proportion_rna_cell_radius_1500_2000',\n",
       " 'index_rna_cell_radius_2000_2500',\n",
       " 'proportion_rna_cell_radius_2000_2500',\n",
       " 'index_rna_cell_radius_2500_3000',\n",
       " 'proportion_rna_cell_radius_2500_3000']"
      ]
     },
     "execution_count": 8,
     "metadata": {},
     "output_type": "execute_result"
    }
   ],
   "source": [
    "# get topographic feature names\n",
    "feature_names = classification.get_features_name(names_features_topography=True)\n",
    "feature_names"
   ]
  },
  {
   "cell_type": "markdown",
   "metadata": {
    "deletable": false,
    "editable": false
   },
   "source": [
    "**Foci related features** computes the proportion of RNAs detected in a foci."
   ]
  },
  {
   "cell_type": "code",
   "execution_count": 9,
   "metadata": {
    "ExecuteTime": {
     "end_time": "2022-04-25T22:44:30.867274Z",
     "start_time": "2022-04-25T22:44:30.858253Z"
    },
    "deletable": false,
    "editable": false
   },
   "outputs": [
    {
     "data": {
      "text/plain": [
       "['proportion_rna_in_foci']"
      ]
     },
     "execution_count": 9,
     "metadata": {},
     "output_type": "execute_result"
    }
   ],
   "source": [
    "# get foci feature names\n",
    "feature_names = classification.get_features_name(names_features_foci=True)\n",
    "feature_names"
   ]
  },
  {
   "cell_type": "markdown",
   "metadata": {
    "deletable": false,
    "editable": false
   },
   "source": [
    "**Area related features** compute the nucleus and cell area."
   ]
  },
  {
   "cell_type": "code",
   "execution_count": 10,
   "metadata": {
    "ExecuteTime": {
     "end_time": "2022-04-25T22:44:30.885730Z",
     "start_time": "2022-04-25T22:44:30.871747Z"
    },
    "deletable": false,
    "editable": false
   },
   "outputs": [
    {
     "data": {
      "text/plain": [
       "['proportion_nuc_area', 'cell_area', 'nuc_area', 'cell_area_out_nuc']"
      ]
     },
     "execution_count": 10,
     "metadata": {},
     "output_type": "execute_result"
    }
   ],
   "source": [
    "# get area feature names\n",
    "feature_names = classification.get_features_name(names_features_area=True)\n",
    "feature_names"
   ]
  },
  {
   "cell_type": "markdown",
   "metadata": {
    "deletable": false,
    "editable": false
   },
   "source": [
    "**Centrosomal features** compute the mean or median distance of RNAs to the closest centrosome (*index_mean_distance_centrosome* and *index_median_distance_centrosome*) or the number of RNAs detected within 2000 nanometers of a centrosome. The count of RNAs is normalized by the expected count in case of uniform RNAs distribution (*index_rna_centrosome*) or the total number of RNAs (*proportion_rna_centrosome*). Feature *index_centrosome_dispersion* is adapted from [(Stueland et al. 2019)] to quantify the dispersion of RNAs around centrosomes. A low index means RNAs are located close to the centrosomes."
   ]
  },
  {
   "cell_type": "code",
   "execution_count": 11,
   "metadata": {
    "ExecuteTime": {
     "end_time": "2022-04-25T22:44:30.902508Z",
     "start_time": "2022-04-25T22:44:30.892552Z"
    },
    "deletable": false,
    "editable": false
   },
   "outputs": [
    {
     "data": {
      "text/plain": [
       "['index_mean_distance_centrosome',\n",
       " 'index_median_distance_centrosome',\n",
       " 'index_rna_centrosome',\n",
       " 'proportion_rna_centrosome',\n",
       " 'index_centrosome_dispersion']"
      ]
     },
     "execution_count": 11,
     "metadata": {},
     "output_type": "execute_result"
    }
   ],
   "source": [
    "# get centrosomal feature names\n",
    "feature_names = classification.get_features_name(names_features_centrosome=True)\n",
    "feature_names"
   ]
  },
  {
   "cell_type": "markdown",
   "metadata": {
    "deletable": false,
    "editable": false
   },
   "source": [
    "## Compute features"
   ]
  },
  {
   "cell_type": "markdown",
   "metadata": {
    "deletable": false,
    "editable": false
   },
   "source": [
    "To **compute features for one cell**, we directly feed `bigfish.classification.compute_features` with the results read with `bigfish.read_cell_extracted`. It is possible to choose specific groups of features and to return feature names in the same time."
   ]
  },
  {
   "cell_type": "code",
   "execution_count": 12,
   "metadata": {
    "ExecuteTime": {
     "end_time": "2022-04-25T22:44:32.150524Z",
     "start_time": "2022-04-25T22:44:30.906787Z"
    },
    "deletable": false,
    "editable": false
   },
   "outputs": [
    {
     "name": "stdout",
     "output_type": "stream",
     "text": [
      "index_mean_distance_cell:                1.24\n",
      "index_median_distance_cell:              1.42\n",
      "index_mean_distance_nuc:                 0.63\n",
      "index_median_distance_nuc:               0.47\n",
      "proportion_rna_in_nuc:                   0.30\n",
      "nb_rna_out_nuc:                          410.00\n",
      "nb_rna_in_nuc:                           175.00\n",
      "index_rna_protrusion:                    0.44\n",
      "proportion_rna_protrusion:               0.01\n",
      "protrusion_area:                         1714.00\n",
      "index_polarization:                      0.11\n",
      "index_dispersion:                        0.84\n",
      "index_peripheral_distribution:           0.81\n",
      "index_rna_nuc_edge:                      0.83\n",
      "proportion_rna_nuc_edge:                 0.03\n",
      "index_rna_nuc_radius_500_1000:           1.83\n",
      "proportion_rna_nuc_radius_500_1000:      0.04\n",
      "index_rna_nuc_radius_1000_1500:          1.55\n",
      "proportion_rna_nuc_radius_1000_1500:     0.03\n",
      "index_rna_nuc_radius_1500_2000:          1.55\n",
      "proportion_rna_nuc_radius_1500_2000:     0.03\n",
      "index_rna_nuc_radius_2000_2500:          1.98\n",
      "proportion_rna_nuc_radius_2000_2500:     0.04\n",
      "index_rna_nuc_radius_2500_3000:          2.36\n",
      "proportion_rna_nuc_radius_2500_3000:     0.05\n",
      "index_rna_cell_radius_0_500:             0.07\n",
      "proportion_rna_cell_radius_0_500:        0.00\n",
      "index_rna_cell_radius_500_1000:          0.40\n",
      "proportion_rna_cell_radius_500_1000:     0.02\n",
      "index_rna_cell_radius_1000_1500:         0.37\n",
      "proportion_rna_cell_radius_1000_1500:    0.02\n",
      "index_rna_cell_radius_1500_2000:         0.30\n",
      "proportion_rna_cell_radius_1500_2000:    0.02\n",
      "index_rna_cell_radius_2000_2500:         0.53\n",
      "proportion_rna_cell_radius_2000_2500:    0.03\n",
      "index_rna_cell_radius_2500_3000:         0.50\n",
      "proportion_rna_cell_radius_2500_3000:    0.02\n",
      "proportion_rna_in_foci:                  0.13\n",
      "proportion_nuc_area:                     0.22\n",
      "cell_area:                               88291.00\n",
      "nuc_area:                                19781.00\n",
      "cell_area_out_nuc:                       68510.00\n"
     ]
    }
   ],
   "source": [
    "# compute features\n",
    "features, features_names = classification.compute_features(\n",
    "    cell_mask, nuc_mask, ndim=3, rna_coord=rna_coord,\n",
    "    smfish=smfish, voxel_size_yx=103,\n",
    "    foci_coord=foci_coord,\n",
    "    centrosome_coord=None,\n",
    "    compute_distance=True,\n",
    "    compute_intranuclear=True,\n",
    "    compute_protrusion=True,\n",
    "    compute_dispersion=True,\n",
    "    compute_topography=True,\n",
    "    compute_foci=True,\n",
    "    compute_area=True,\n",
    "    return_names=True)\n",
    "\n",
    "for feature, feature_name in zip(features, features_names):\n",
    "    print(\"{0:40} {1:0.2f}\".format(feature_name + \":\", feature))"
   ]
  },
  {
   "cell_type": "markdown",
   "metadata": {
    "deletable": false,
    "editable": false
   },
   "source": [
    "## Compute features for several cells"
   ]
  },
  {
   "cell_type": "markdown",
   "metadata": {
    "deletable": false,
    "editable": false
   },
   "source": [
    "To **compute features for multiple cells**, a loop can be easily implemented on the different cell results. Finally, *pandas* DataFrames are an appropriate way to store computed features. "
   ]
  },
  {
   "cell_type": "code",
   "execution_count": 13,
   "metadata": {
    "ExecuteTime": {
     "end_time": "2022-04-25T22:44:34.397017Z",
     "start_time": "2022-04-25T22:44:32.153907Z"
    },
    "deletable": false,
    "editable": false
   },
   "outputs": [
    {
     "data": {
      "text/html": [
       "<div>\n",
       "<style scoped>\n",
       "    .dataframe tbody tr th:only-of-type {\n",
       "        vertical-align: middle;\n",
       "    }\n",
       "\n",
       "    .dataframe tbody tr th {\n",
       "        vertical-align: top;\n",
       "    }\n",
       "\n",
       "    .dataframe thead th {\n",
       "        text-align: right;\n",
       "    }\n",
       "</style>\n",
       "<table border=\"1\" class=\"dataframe\">\n",
       "  <thead>\n",
       "    <tr style=\"text-align: right;\">\n",
       "      <th></th>\n",
       "      <th>index_mean_distance_cell</th>\n",
       "      <th>index_median_distance_cell</th>\n",
       "      <th>index_mean_distance_nuc</th>\n",
       "      <th>index_median_distance_nuc</th>\n",
       "      <th>proportion_rna_in_nuc</th>\n",
       "      <th>nb_rna_out_nuc</th>\n",
       "      <th>nb_rna_in_nuc</th>\n",
       "      <th>index_rna_protrusion</th>\n",
       "      <th>proportion_rna_protrusion</th>\n",
       "      <th>protrusion_area</th>\n",
       "      <th>...</th>\n",
       "      <th>proportion_rna_cell_radius_1500_2000</th>\n",
       "      <th>index_rna_cell_radius_2000_2500</th>\n",
       "      <th>proportion_rna_cell_radius_2000_2500</th>\n",
       "      <th>index_rna_cell_radius_2500_3000</th>\n",
       "      <th>proportion_rna_cell_radius_2500_3000</th>\n",
       "      <th>proportion_rna_in_foci</th>\n",
       "      <th>proportion_nuc_area</th>\n",
       "      <th>cell_area</th>\n",
       "      <th>nuc_area</th>\n",
       "      <th>cell_area_out_nuc</th>\n",
       "    </tr>\n",
       "  </thead>\n",
       "  <tbody>\n",
       "    <tr>\n",
       "      <th>0</th>\n",
       "      <td>1.24</td>\n",
       "      <td>1.42</td>\n",
       "      <td>0.63</td>\n",
       "      <td>0.47</td>\n",
       "      <td>0.30</td>\n",
       "      <td>410.0</td>\n",
       "      <td>175.0</td>\n",
       "      <td>0.44</td>\n",
       "      <td>0.01</td>\n",
       "      <td>1714.0</td>\n",
       "      <td>...</td>\n",
       "      <td>0.02</td>\n",
       "      <td>0.53</td>\n",
       "      <td>0.03</td>\n",
       "      <td>0.50</td>\n",
       "      <td>0.02</td>\n",
       "      <td>0.13</td>\n",
       "      <td>0.22</td>\n",
       "      <td>88291.0</td>\n",
       "      <td>19781.0</td>\n",
       "      <td>68510.0</td>\n",
       "    </tr>\n",
       "    <tr>\n",
       "      <th>1</th>\n",
       "      <td>1.24</td>\n",
       "      <td>1.43</td>\n",
       "      <td>0.63</td>\n",
       "      <td>0.62</td>\n",
       "      <td>0.28</td>\n",
       "      <td>390.0</td>\n",
       "      <td>153.0</td>\n",
       "      <td>0.33</td>\n",
       "      <td>0.00</td>\n",
       "      <td>868.0</td>\n",
       "      <td>...</td>\n",
       "      <td>0.03</td>\n",
       "      <td>0.69</td>\n",
       "      <td>0.03</td>\n",
       "      <td>0.66</td>\n",
       "      <td>0.03</td>\n",
       "      <td>0.11</td>\n",
       "      <td>0.25</td>\n",
       "      <td>78577.0</td>\n",
       "      <td>19801.0</td>\n",
       "      <td>58776.0</td>\n",
       "    </tr>\n",
       "  </tbody>\n",
       "</table>\n",
       "<p>2 rows × 42 columns</p>\n",
       "</div>"
      ],
      "text/plain": [
       "   index_mean_distance_cell  index_median_distance_cell  \\\n",
       "0                      1.24                        1.42   \n",
       "1                      1.24                        1.43   \n",
       "\n",
       "   index_mean_distance_nuc  index_median_distance_nuc  proportion_rna_in_nuc  \\\n",
       "0                     0.63                       0.47                   0.30   \n",
       "1                     0.63                       0.62                   0.28   \n",
       "\n",
       "   nb_rna_out_nuc  nb_rna_in_nuc  index_rna_protrusion  \\\n",
       "0           410.0          175.0                  0.44   \n",
       "1           390.0          153.0                  0.33   \n",
       "\n",
       "   proportion_rna_protrusion  protrusion_area  ...  \\\n",
       "0                       0.01           1714.0  ...   \n",
       "1                       0.00            868.0  ...   \n",
       "\n",
       "   proportion_rna_cell_radius_1500_2000  index_rna_cell_radius_2000_2500  \\\n",
       "0                                  0.02                             0.53   \n",
       "1                                  0.03                             0.69   \n",
       "\n",
       "   proportion_rna_cell_radius_2000_2500  index_rna_cell_radius_2500_3000  \\\n",
       "0                                  0.03                             0.50   \n",
       "1                                  0.03                             0.66   \n",
       "\n",
       "   proportion_rna_cell_radius_2500_3000  proportion_rna_in_foci  \\\n",
       "0                                  0.02                    0.13   \n",
       "1                                  0.03                    0.11   \n",
       "\n",
       "   proportion_nuc_area  cell_area  nuc_area  cell_area_out_nuc  \n",
       "0                 0.22    88291.0   19781.0            68510.0  \n",
       "1                 0.25    78577.0   19801.0            58776.0  \n",
       "\n",
       "[2 rows x 42 columns]"
      ]
     },
     "execution_count": 13,
     "metadata": {},
     "output_type": "execute_result"
    }
   ],
   "source": [
    "# parse different results files\n",
    "dataframes = []\n",
    "for filename in [\"results_cell_0.npz\", \"results_cell_1.npz\"]:\n",
    "\n",
    "    # load single cell data\n",
    "    path = os.path.join(path_output, filename)\n",
    "    data = stack.read_cell_extracted(path)\n",
    "    cell_mask = data[\"cell_mask\"]\n",
    "    nuc_mask = data[\"nuc_mask\"]\n",
    "    rna_coord = data[\"rna_coord\"]\n",
    "    foci_coord = data[\"foci\"]\n",
    "    smfish = data[\"smfish\"]\n",
    "    \n",
    "    # compute features\n",
    "    features, features_names = classification.compute_features(\n",
    "    cell_mask, nuc_mask, ndim=3, rna_coord=rna_coord,\n",
    "    smfish=smfish, voxel_size_yx=103,\n",
    "    foci_coord=foci_coord,\n",
    "    centrosome_coord=None,\n",
    "    compute_distance=True,\n",
    "    compute_intranuclear=True,\n",
    "    compute_protrusion=True,\n",
    "    compute_dispersion=True,\n",
    "    compute_topography=True,\n",
    "    compute_foci=True,\n",
    "    compute_area=True,\n",
    "    return_names=True)\n",
    "\n",
    "    # build dataframe\n",
    "    features = features.reshape((1, -1))\n",
    "    df_cell = pd.DataFrame(data=features, columns=features_names)\n",
    "    dataframes.append(df_cell)\n",
    "    \n",
    "# concatenate dataframes\n",
    "df = pd.concat(dataframes)\n",
    "\n",
    "# reset index\n",
    "df.reset_index(drop=True, inplace=True)\n",
    "df"
   ]
  },
  {
   "cell_type": "markdown",
   "metadata": {
    "deletable": false,
    "editable": false
   },
   "source": [
    "## Save features"
   ]
  },
  {
   "cell_type": "markdown",
   "metadata": {
    "deletable": false,
    "editable": false
   },
   "source": [
    "Saving the features DataFrame can be done with `bigfish.stack.save_data_to_csv`."
   ]
  },
  {
   "cell_type": "code",
   "execution_count": 14,
   "metadata": {
    "ExecuteTime": {
     "end_time": "2022-04-25T22:44:34.407955Z",
     "start_time": "2022-04-25T22:44:34.399707Z"
    },
    "deletable": false,
    "editable": false
   },
   "outputs": [],
   "source": [
    "path = os.path.join(path_output, \"df_features.csv\")\n",
    "stack.save_data_to_csv(df, path)"
   ]
  }
 ],
 "metadata": {
  "kernelspec": {
   "display_name": "Python [conda env:bigfish]",
   "language": "python",
   "name": "conda-env-bigfish-py"
  },
  "language_info": {
   "codemirror_mode": {
    "name": "ipython",
    "version": 3
   },
   "file_extension": ".py",
   "mimetype": "text/x-python",
   "name": "python",
   "nbconvert_exporter": "python",
   "pygments_lexer": "ipython3",
   "version": "3.6.8"
  }
 },
 "nbformat": 4,
 "nbformat_minor": 2
}
