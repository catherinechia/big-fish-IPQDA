{
 "cells": [
  {
   "attachments": {},
   "cell_type": "markdown",
   "metadata": {
    "deletable": false,
    "editable": false
   },
   "source": [
    "# Detect spots (modified for IPQDA)"
   ]
  },
  {
   "cell_type": "code",
   "execution_count": null,
   "metadata": {
    "ExecuteTime": {
     "end_time": "2022-09-05T16:01:29.143710Z",
     "start_time": "2022-09-05T16:01:27.173886Z"
    },
    "deletable": false,
    "editable": false
   },
   "outputs": [],
   "source": [
    "import os\n",
    "import numpy as np\n",
    "import bigfish\n",
    "import bigfish.stack as stack\n",
    "import bigfish.detection as detection\n",
    "import bigfish.multistack as multistack\n",
    "import bigfish.plot as plot\n",
    "print(\"Big-FISH version: {0}\".format(bigfish.__version__))"
   ]
  },
  {
   "attachments": {},
   "cell_type": "markdown",
   "metadata": {},
   "source": [
    "#### (IPQDA: Change values here)"
   ]
  },
  {
   "cell_type": "code",
   "execution_count": 96,
   "metadata": {
    "ExecuteTime": {
     "end_time": "2022-09-05T16:01:29.240319Z",
     "start_time": "2022-09-05T16:01:29.146581Z"
    },
    "deletable": false,
    "editable": false
   },
   "outputs": [],
   "source": [
    "# hard-code the paths of our input and output directories\n",
    "path_input = \"../data/input/DMSO\"\n",
    "#path_input = \"../data/input/JQ1\"\n",
    "#path_input = \"../data/input/TSA\"\n",
    "\n",
    "path_output = \"../data/output/DMSO\"\n",
    "# path_output = \"../data/output/JQ1\"\n",
    "# path_output = \"../data/output/TSA\"\n"
   ]
  },
  {
   "attachments": {},
   "cell_type": "markdown",
   "metadata": {
    "deletable": false,
    "editable": false
   },
   "source": [
    "In this notebook, we show examples of **mRNAs detection**. We use 3D images. Three main steps are developed:\n",
    "- Spot detection - Detection of spots as local maximum.\n",
    "- Dense region decomposition - Decomposition of dense and bright regions by simulating as many new spots in these regions as possible.\n",
    "- Clusters detection - Detection of clustered spots."
   ]
  },
  {
   "attachments": {},
   "cell_type": "markdown",
   "metadata": {},
   "source": [
    "#### (IPQDA: Change values here)"
   ]
  },
  {
   "cell_type": "code",
   "execution_count": null,
   "metadata": {
    "ExecuteTime": {
     "end_time": "2022-09-05T16:01:29.258259Z",
     "start_time": "2022-09-05T16:01:29.242094Z"
    },
    "deletable": false,
    "editable": false
   },
   "outputs": [],
   "source": [
    "#Change filename \n",
    "path = os.path.join(path_input, \"DMSO_004_smfish_fov_1.tif\")\n",
    "#path = os.path.join(path_input, \"JQ1_317_smfish_fov_1.tif\")\n",
    "#path = os.path.join(path_input, \"TSA_615_smfish_fov_1.tif\")\n",
    "rna = stack.read_image(path)\n",
    "print(\"smfish channel\")\n",
    "print(\"\\r shape: {0}\".format(rna.shape))\n",
    "print(\"\\r dtype: {0}\".format(rna.dtype))"
   ]
  },
  {
   "cell_type": "code",
   "execution_count": null,
   "metadata": {
    "ExecuteTime": {
     "end_time": "2022-09-05T16:01:29.271819Z",
     "start_time": "2022-09-05T16:01:29.261172Z"
    },
    "deletable": false,
    "editable": false
   },
   "outputs": [],
   "source": [
    "rna_mip = stack.maximum_projection(rna)\n",
    "print(\"smfish channel (2D maximum projection)\")\n",
    "print(\"\\r shape: {0}\".format(rna_mip.shape))\n",
    "print(\"\\r dtype: {0}\".format(rna_mip.dtype))"
   ]
  },
  {
   "attachments": {},
   "cell_type": "markdown",
   "metadata": {
    "deletable": false,
    "editable": false
   },
   "source": [
    "## Spot detection"
   ]
  },
  {
   "attachments": {},
   "cell_type": "markdown",
   "metadata": {
    "deletable": false,
    "editable": false
   },
   "source": [
    "We assume **spot is a local maximum** in the smFISH channel. Three steps are required to detect them:\n",
    "- Filter the smFISH channel to enhance the signal-to-noise ratio and denoise the image (`bigfish.stack.log_filter`).\n",
    "- Detect the local maximum in the filtered image (`bigfish.detection.local_maximum_detection`).\n",
    "- Remove the local maximum under a fixed threshold (`bigfish.detection.spots_thresholding`). To be robust, the thresholding should be applied on the filtered image. Thus, the threshold is set relatively to the filtered image values.\n",
    "- If necessary, the optimal threshold can be estimated with `bigfish.detection.automated_threshold_setting` (applied on a filtered image).\n",
    "\n",
    "All these steps are summarized in `bigfish.detection.detect_spots` that return the 2D or 3D coordinates of the detected spots."
   ]
  },
  {
   "cell_type": "code",
   "execution_count": null,
   "metadata": {
    "ExecuteTime": {
     "end_time": "2022-09-05T16:01:31.903304Z",
     "start_time": "2022-09-05T16:01:29.274904Z"
    },
    "deletable": false,
    "editable": false
   },
   "outputs": [],
   "source": [
    "spots, threshold = detection.detect_spots(\n",
    "    images=rna, \n",
    "    return_threshold=True, \n",
    "    voxel_size=(300, 103, 103),  # in nanometer (one value per dimension zyx)\n",
    "    spot_radius=(350, 150, 150))  # in nanometer (one value per dimension zyx)\n",
    "print(\"detected spots\")\n",
    "print(\"\\r shape: {0}\".format(spots.shape))\n",
    "print(\"\\r dtype: {0}\".format(spots.dtype))\n",
    "print(\"\\r threshold: {0}\".format(threshold))"
   ]
  },
  {
   "attachments": {},
   "cell_type": "markdown",
   "metadata": {
    "deletable": false,
    "editable": false
   },
   "source": [
    "Given the **voxel size** and the expected **spot radius** (in nanometer), the function `bigfish.detection.detect_spots` automatically estimates a **kernel size** for the LoG filtering and a **minimal distance** between two spots we want to be able to detect separately. It is still possible to set these parameters explicitly in order to fine-tune the detection. Internally, we approximate them as the spot radius in pixel with the function `bigfish.detection.get_object_radius_pixel`."
   ]
  },
  {
   "cell_type": "code",
   "execution_count": null,
   "metadata": {
    "ExecuteTime": {
     "end_time": "2022-09-05T16:01:31.909421Z",
     "start_time": "2022-09-05T16:01:31.905453Z"
    },
    "deletable": false,
    "editable": false
   },
   "outputs": [],
   "source": [
    "spot_radius_px = detection.get_object_radius_pixel(\n",
    "    voxel_size_nm=(300, 103, 103), \n",
    "    object_radius_nm=(350, 150, 150), \n",
    "    ndim=3)\n",
    "print(\"spot radius (z axis): {:0.3f} pixels\".format(spot_radius_px[0]))\n",
    "print(\"spot radius (yx plan): {:0.3f} pixels\".format(spot_radius_px[-1]))"
   ]
  },
  {
   "cell_type": "code",
   "execution_count": null,
   "metadata": {
    "ExecuteTime": {
     "end_time": "2022-09-05T16:01:34.519181Z",
     "start_time": "2022-09-05T16:01:31.912403Z"
    },
    "deletable": false,
    "editable": false
   },
   "outputs": [],
   "source": [
    "spots, threshold = detection.detect_spots(\n",
    "    images=rna, \n",
    "    return_threshold=True, \n",
    "    log_kernel_size=(1.167, 1.456, 1.456),\n",
    "    minimum_distance=(1.167, 1.456, 1.456))\n",
    "print(\"detected spots\")\n",
    "print(\"\\r shape: {0}\".format(spots.shape))\n",
    "print(\"\\r dtype: {0}\".format(spots.dtype))\n",
    "print(\"\\r threshold: {0}\".format(threshold))"
   ]
  },
  {
   "attachments": {},
   "cell_type": "markdown",
   "metadata": {
    "deletable": false,
    "editable": false
   },
   "source": [
    "__Note:__ What we call spot radius in this notebook can be understood as its **Point Spread Function (PSF)**. For simplicity sake, this PSF is modelled as a 2D or 3D gaussian."
   ]
  },
  {
   "attachments": {},
   "cell_type": "markdown",
   "metadata": {},
   "source": [
    "#### (IPQDA: Figure 1 - Spot detection)"
   ]
  },
  {
   "cell_type": "code",
   "execution_count": null,
   "metadata": {
    "ExecuteTime": {
     "end_time": "2022-09-05T16:01:38.786387Z",
     "start_time": "2022-09-05T16:01:35.749355Z"
    },
    "deletable": false,
    "editable": false
   },
   "outputs": [],
   "source": [
    "plot.plot_detection(rna_mip, spots, contrast=True)"
   ]
  },
  {
   "attachments": {},
   "cell_type": "markdown",
   "metadata": {
    "deletable": false,
    "editable": false
   },
   "source": [
    "The automated spot detection method tries to find the optimal threshold to discriminate actual spots from noisy blobs. If we plot the number of the spots detected as a function of threshold level we observe an **elbow curve**. The selected threhold is the one located in the breaking point of the curve. This curve can be plotted with `bigfish.plot.plot_elbow`."
   ]
  },
  {
   "cell_type": "code",
   "execution_count": null,
   "metadata": {
    "ExecuteTime": {
     "end_time": "2022-09-05T16:01:41.132115Z",
     "start_time": "2022-09-05T16:01:38.788085Z"
    },
    "deletable": false,
    "editable": false
   },
   "outputs": [],
   "source": [
    "plot.plot_elbow(\n",
    "    images=rna, \n",
    "    voxel_size=(300, 103, 103), \n",
    "    spot_radius=(350, 150, 150))"
   ]
  },
  {
   "attachments": {},
   "cell_type": "markdown",
   "metadata": {
    "deletable": false,
    "editable": false
   },
   "source": [
    "## Dense region decomposition"
   ]
  },
  {
   "attachments": {},
   "cell_type": "markdown",
   "metadata": {
    "deletable": false,
    "editable": false
   },
   "source": [
    "The detection of local maximum is not able to detect individual spots clustered in a dense and bright region. We try to **decompose these regions by simulating as many spots as possible until we match the original region intensity**. Our current steps are:\n",
    "- Denoise the smFISH channel by estimating then removing its background (`bigfish.stack.remove_background_gaussian`).\n",
    "- Build a reference median spot from the individual predetected spots (`bigfish.detection.build_reference_spot`).\n",
    "- Fit a gaussian signal on the reference spot (`bigfish.detection.modelize_spot`).\n",
    "- Detect the candidate dense regions in the denoised image - large regions brighter than the reference spot (`bigfish.detection.get_dense_region`).\n",
    "- Use the fitted gaussian signal to fill as many spots in the candidate regions as possible (`bigfish.detection.simulate_gaussian_mixture`).\n",
    "\n",
    "All these steps are summarized in `bigfish.detection.decompose_dense` that return the 2D or 3D coordinates of the detected spots outside and inside a decomposed region, additional information about the regions themself and an image of the reference spot estimated."
   ]
  },
  {
   "cell_type": "code",
   "execution_count": null,
   "metadata": {
    "ExecuteTime": {
     "end_time": "2022-09-05T16:01:42.141254Z",
     "start_time": "2022-09-05T16:01:41.134544Z"
    },
    "deletable": false,
    "editable": false
   },
   "outputs": [],
   "source": [
    "spots_post_decomposition, dense_regions, reference_spot = detection.decompose_dense(\n",
    "    image=rna, \n",
    "    spots=spots, \n",
    "    voxel_size=(300, 103, 103), \n",
    "    spot_radius=(350, 150, 150), \n",
    "    alpha=0.7,  # alpha impacts the number of spots per candidate region\n",
    "    beta=1,  # beta impacts the number of candidate regions to decompose\n",
    "    gamma=5)  # gamma the filtering step to denoise the image\n",
    "print(\"detected spots before decomposition\")\n",
    "print(\"\\r shape: {0}\".format(spots.shape))\n",
    "print(\"\\r dtype: {0}\".format(spots.dtype), \"\\n\")\n",
    "print(\"detected spots after decomposition\")\n",
    "print(\"\\r shape: {0}\".format(spots_post_decomposition.shape))\n",
    "print(\"\\r dtype: {0}\".format(spots_post_decomposition.dtype))"
   ]
  },
  {
   "attachments": {},
   "cell_type": "markdown",
   "metadata": {},
   "source": [
    "#### (IPQDA: Figure 2 - Spot detection after decomposing the regions)"
   ]
  },
  {
   "cell_type": "code",
   "execution_count": null,
   "metadata": {
    "ExecuteTime": {
     "end_time": "2022-09-05T16:01:47.374203Z",
     "start_time": "2022-09-05T16:01:43.087698Z"
    },
    "deletable": false,
    "editable": false
   },
   "outputs": [],
   "source": [
    "plot.plot_detection(rna_mip, spots_post_decomposition, contrast=True)"
   ]
  },
  {
   "attachments": {},
   "cell_type": "markdown",
   "metadata": {
    "deletable": false,
    "editable": false
   },
   "source": [
    "## Clusters detection"
   ]
  },
  {
   "attachments": {},
   "cell_type": "markdown",
   "metadata": {
    "deletable": false,
    "editable": false
   },
   "source": [
    "Two spots are considered connected if they localized within a specific radius (in nanometer). Above a minimum number of connected spots, a cluster can be defined. This detection can be computed with `bigfish.detection.detect_clusters`."
   ]
  },
  {
   "cell_type": "code",
   "execution_count": null,
   "metadata": {
    "ExecuteTime": {
     "end_time": "2022-09-05T16:01:47.529239Z",
     "start_time": "2022-09-05T16:01:47.519310Z"
    },
    "deletable": false,
    "editable": false
   },
   "outputs": [],
   "source": [
    "spots_post_clustering, clusters = detection.detect_clusters(\n",
    "    spots=spots_post_decomposition, \n",
    "    voxel_size=(300, 103, 103), \n",
    "    radius=350, \n",
    "    nb_min_spots=2)\n",
    "print(\"detected spots after clustering\")\n",
    "print(\"\\r shape: {0}\".format(spots_post_clustering.shape))\n",
    "print(\"\\r dtype: {0}\".format(spots_post_clustering.dtype), \"\\n\")\n",
    "print(\"detected clusters\")\n",
    "print(\"\\r shape: {0}\".format(clusters.shape))\n",
    "print(\"\\r dtype: {0}\".format(clusters.dtype))"
   ]
  },
  {
   "attachments": {},
   "cell_type": "markdown",
   "metadata": {},
   "source": [
    "#### (IPQDA: Figure 3 - Cluster detection)"
   ]
  },
  {
   "cell_type": "code",
   "execution_count": null,
   "metadata": {
    "ExecuteTime": {
     "end_time": "2022-09-05T16:01:51.901592Z",
     "start_time": "2022-09-05T16:01:47.531620Z"
    },
    "deletable": false,
    "editable": false
   },
   "outputs": [],
   "source": [
    "# plot\n",
    "plot.plot_detection(rna_mip, \n",
    "                    spots=[spots_post_decomposition, clusters[:, :3]], \n",
    "                    shape=[\"circle\", \"polygon\"], \n",
    "                    radius=[3, 6], \n",
    "                    color=[\"red\", \"blue\"],\n",
    "                    linewidth=[1, 2], \n",
    "                    fill=[False, True], \n",
    "                    contrast=True)"
   ]
  },
  {
   "attachments": {},
   "cell_type": "markdown",
   "metadata": {
    "deletable": false,
    "editable": false
   },
   "source": [
    "## Save results"
   ]
  },
  {
   "attachments": {},
   "cell_type": "markdown",
   "metadata": {
    "deletable": false,
    "editable": false
   },
   "source": [
    "Spots and foci coordinates can be saved in **npy files** (numpy dedicated format) or **csv files** using functions `bigfish.stack.save_array` and `bigfish.stack.save_data_to_csv` respectively."
   ]
  },
  {
   "attachments": {},
   "cell_type": "markdown",
   "metadata": {},
   "source": [
    "#### (IPQDA: Change values here)"
   ]
  },
  {
   "cell_type": "code",
   "execution_count": 119,
   "metadata": {
    "ExecuteTime": {
     "end_time": "2022-09-05T16:01:53.858659Z",
     "start_time": "2022-09-05T16:01:53.848372Z"
    },
    "deletable": false,
    "editable": false
   },
   "outputs": [],
   "source": [
    "# save in csv files\n",
    "path_spots = os.path.join(path_output, \"DMSO_004_spots.csv\")\n",
    "#path_spots = os.path.join(path_output, \"JQ1_317_spots.csv\")\n",
    "#path_spots = os.path.join(path_output, \"TSA_615_spots.csv\")\n",
    "stack.save_data_to_csv(spots_post_clustering, path_spots)\n",
    "\n",
    "path_clusters = os.path.join(path_output, \"DMSO_004_clusters.csv\")\n",
    "#path_clusters = os.path.join(path_output, \"JQ1_317_clusters.csv\")\n",
    "#path_clusters = os.path.join(path_output, \"TSA_615_clusters.csv\")\n",
    "stack.save_data_to_csv(clusters, path_clusters)"
   ]
  }
 ],
 "metadata": {
  "kernelspec": {
   "display_name": "Python 3 (ipykernel)",
   "language": "python",
   "name": "python3"
  },
  "language_info": {
   "codemirror_mode": {
    "name": "ipython",
    "version": 3
   },
   "file_extension": ".py",
   "mimetype": "text/x-python",
   "name": "python",
   "nbconvert_exporter": "python",
   "pygments_lexer": "ipython3",
   "version": "3.9.16"
  }
 },
 "nbformat": 4,
 "nbformat_minor": 2
}
