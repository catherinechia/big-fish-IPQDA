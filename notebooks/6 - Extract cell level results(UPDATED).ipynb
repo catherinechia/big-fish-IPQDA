{
 "cells": [
  {
   "cell_type": "markdown",
   "metadata": {
    "deletable": false,
    "editable": false
   },
   "source": [
    "# Extract cell level results (modified for IPQDA)"
   ]
  },
  {
   "cell_type": "code",
   "execution_count": null,
   "metadata": {
    "ExecuteTime": {
     "end_time": "2022-04-25T22:44:18.353423Z",
     "start_time": "2022-04-25T22:44:16.907511Z"
    }
   },
   "outputs": [],
   "source": [
    "import os\n",
    "import numpy as np\n",
    "import bigfish\n",
    "import bigfish.stack as stack\n",
    "import bigfish.multistack as multistack\n",
    "import bigfish.plot as plot\n",
    "print(\"Big-FISH version: {0}\".format(bigfish.__version__))"
   ]
  },
  {
   "cell_type": "markdown",
   "metadata": {},
   "source": [
    "#### (IPQDA: Change values here)"
   ]
  },
  {
   "cell_type": "code",
   "execution_count": 49,
   "metadata": {
    "ExecuteTime": {
     "end_time": "2022-04-25T22:44:18.454345Z",
     "start_time": "2022-04-25T22:44:18.356624Z"
    }
   },
   "outputs": [],
   "source": [
    "# hard-code the paths of our input and output directories\n",
    "path_input = \"../data/input/DMSO\"\n",
    "#path_input = \"../data/input/JQ1\"\n",
    "#path_input = \"../data/input/TSA\"\n",
    "\n",
    "path_output = \"../data/output/DMSO\"\n",
    "# path_output = \"../data/output/JQ1\"\n",
    "# path_output = \"../data/output/TSA\""
   ]
  },
  {
   "cell_type": "markdown",
   "metadata": {},
   "source": [
    "In this notebook, we show examples to **extract results at the cell level**. We combine the results of the previous notebook. As a reminder, segmentation is performed in 2D, but detection can be performed in 2D or 3D. Several steps are presented:\n",
    "- Presentation of the different formats expected for the segmentation and detection results.\n",
    "- Detection and filtering of the transcription sites.\n",
    "- Extraction of the FoV results at the cell levels.\n",
    "- Cell plots."
   ]
  },
  {
   "cell_type": "markdown",
   "metadata": {},
   "source": [
    "#### (IPQDA: Change values here)"
   ]
  },
  {
   "cell_type": "code",
   "execution_count": null,
   "metadata": {
    "ExecuteTime": {
     "end_time": "2022-04-25T22:44:18.725550Z",
     "start_time": "2022-04-25T22:44:18.456456Z"
    }
   },
   "outputs": [],
   "source": [
    "#Nucleus channel (DAPI)\n",
    "path = os.path.join(path_input, \"DMSO_004_dapi_fov_1.tif\")\n",
    "# path = os.path.join(path_input, \"JQ1_317_dapi_fov_1.tif\")\n",
    "# path = os.path.join(path_input, \"TSA_615_dapi_fov_1.tif\")\n",
    "\n",
    "nuc = stack.read_image(path)\n",
    "nuc_mip = stack.maximum_projection(nuc)\n",
    "print(\"smfish channel\")\n",
    "print(\"\\r shape: {0}\".format(nuc.shape))\n",
    "print(\"\\r dtype: {0}\".format(nuc.dtype), \"\\n\")\n",
    "\n",
    "#FISH channel\n",
    "path = os.path.join(path_input, \"DMSO_004_smfish_fov_1.tif\")\n",
    "# path = os.path.join(path_input, \"JQ1_317_smfish_fov_1.tif\")\n",
    "# path = os.path.join(path_input, \"TSA_615_smfish_fov_1.tif\")\n",
    "\n",
    "rna = stack.read_image(path)\n",
    "rna_mip = stack.maximum_projection(rna)\n",
    "print(\"smfish channel\")\n",
    "print(\"\\r shape: {0}\".format(rna.shape))\n",
    "print(\"\\r dtype: {0}\".format(rna.dtype))\n",
    "\n",
    "image_contrasted = stack.rescale(rna, channel_to_stretch=0)\n",
    "image_contrasted = stack.maximum_projection(image_contrasted)"
   ]
  },
  {
   "cell_type": "markdown",
   "metadata": {
    "deletable": false,
    "editable": false
   },
   "source": [
    "## Read segmentation and detection results"
   ]
  },
  {
   "cell_type": "markdown",
   "metadata": {
    "deletable": false,
    "editable": false
   },
   "source": [
    "The input files need to follow a specific format:\n",
    "- **Segmented cells** can be saved in a tif file. It should be a 2D array with integers (np.uint8, np.uint16 or np.int64). This array is required.\n",
    "- **Segmented nuclei** can be saved in a tif file. It should be a 2D array with integers (np.uint8, np.uint16 or np.int64). This array is optional. If None, transcription sites are not identified.\n",
    "- **Spots coordinates** can be saved in a npy file or a csv file. It should be a 2D array with np.int64 or np.float64 dtype. This array is optional. If None, spots are not assigned to the segmented cells.\n",
    "- **Clusters coordinates** can be saved in a npy file or a csv file. It should be a 2D array with np.int64 or np.float64 dtype. This array is optional. Clusters can be later defined as foci or transcription sites. If None, clusters are not identified and assigned to the segmented cells.\n",
    "- **FoV images** can be saved in a png file. It should be a 2D array with np.uint8 or np.uint16 dtype. This array is optional. If None, images of the individual cells are not returned."
   ]
  },
  {
   "cell_type": "markdown",
   "metadata": {},
   "source": [
    "#### (IPQDA: Change values here)"
   ]
  },
  {
   "cell_type": "code",
   "execution_count": null,
   "metadata": {
    "ExecuteTime": {
     "end_time": "2022-04-25T22:44:18.764822Z",
     "start_time": "2022-04-25T22:44:18.729335Z"
    }
   },
   "outputs": [],
   "source": [
    "path_cell_label = os.path.join(path_output, \"DMSO_004_cell_label.tif\")\n",
    "# path_cell_label = os.path.join(path_output, \"JQ1_317_cell_label.tif\")\n",
    "# path_cell_label = os.path.join(path_output, \"TSA_615_cell_label.tif\")\n",
    "\n",
    "path_nuc_label = os.path.join(path_output, \"DMSO_004_nuc_label.tif\")\n",
    "# path_nuc_label = os.path.join(path_output, \"JQ1_317_nuc_label.tif\")\n",
    "# path_nuc_label = os.path.join(path_output, \"TSA_615_nuc_label.tif\")\n",
    "\n",
    "path_spots = os.path.join(path_output, \"DMSO_004_spots.csv\")\n",
    "# path_spots = os.path.join(path_output, \"JQ1_317_spots.csv\")\n",
    "# path_spots = os.path.join(path_output, \"TSA_615_spots.csv\")\n",
    "\n",
    "path_foci = os.path.join(path_output, \"DMSO_004_clusters.csv\")\n",
    "# path_foci = os.path.join(path_output, \"JQ1_317_clusters.csv\")\n",
    "# path_foci = os.path.join(path_output, \"TSA_615_clusters.csv\")\n",
    "\n",
    "\n",
    "# segmented cells\n",
    "cell_label = stack.read_image(path_cell_label)\n",
    "print(\"segmented cells\")\n",
    "print(\"\\r shape: {0}\".format(cell_label.shape))\n",
    "print(\"\\r dtype: {0}\".format(cell_label.dtype), \"\\n\")\n",
    "\n",
    "# segmented nuclei\n",
    "nuc_label = stack.read_image(path_nuc_label)\n",
    "print(\"segmented nuclei\")\n",
    "print(\"\\r shape: {0}\".format(nuc_label.shape))\n",
    "print(\"\\r dtype: {0}\".format(nuc_label.dtype), \"\\n\")\n",
    "\n",
    "# detected spots\n",
    "spots = stack.read_array_from_csv(path_spots, dtype=np.int64)\n",
    "print(\"detected spots\")\n",
    "print(\"\\r shape: {0}\".format(spots.shape))\n",
    "print(\"\\r dtype: {0}\".format(spots.dtype), \"\\n\")\n",
    "\n",
    "# detected foci\n",
    "clusters = stack.read_array_from_csv(path_foci, dtype=np.int64)\n",
    "print(\"detected clusters\")\n",
    "print(\"\\r shape: {0}\".format(clusters.shape))\n",
    "print(\"\\r dtype: {0}\".format(clusters.dtype))"
   ]
  },
  {
   "cell_type": "markdown",
   "metadata": {
    "deletable": false,
    "editable": false
   },
   "source": [
    "## Transcription sites"
   ]
  },
  {
   "cell_type": "markdown",
   "metadata": {
    "deletable": false,
    "editable": false
   },
   "source": [
    "We can discriminate **foci** from **transcription sites** with the function `bigfish.multistack.remove_transcription_site`. A transcription site is a cluster detected inside the nucleus, when the foci define the others clusters detected in the cell."
   ]
  },
  {
   "cell_type": "code",
   "execution_count": null,
   "metadata": {
    "ExecuteTime": {
     "end_time": "2022-04-25T22:44:18.774967Z",
     "start_time": "2022-04-25T22:44:18.768807Z"
    }
   },
   "outputs": [],
   "source": [
    "spots_no_ts, foci, ts = multistack.remove_transcription_site(spots, clusters, nuc_label, ndim=3)\n",
    "print(\"detected spots (without transcription sites)\")\n",
    "print(\"\\r shape: {0}\".format(spots_no_ts.shape))\n",
    "print(\"\\r dtype: {0}\".format(spots_no_ts.dtype))"
   ]
  },
  {
   "cell_type": "markdown",
   "metadata": {
    "deletable": false,
    "editable": false
   },
   "source": [
    "More generally, we can **identify objects in specific cellular compartments** with the function `bigfish.multistack.identify_objects_in_region`."
   ]
  },
  {
   "cell_type": "code",
   "execution_count": null,
   "metadata": {
    "ExecuteTime": {
     "end_time": "2022-04-25T22:44:18.786526Z",
     "start_time": "2022-04-25T22:44:18.778125Z"
    }
   },
   "outputs": [],
   "source": [
    "spots_in, spots_out = multistack.identify_objects_in_region(nuc_label, spots, ndim=3)\n",
    "print(\"detected spots (inside nuclei)\")\n",
    "print(\"\\r shape: {0}\".format(spots_in.shape))\n",
    "print(\"\\r dtype: {0}\".format(spots_in.dtype), \"\\n\")\n",
    "print(\"detected spots (outside nuclei)\")\n",
    "print(\"\\r shape: {0}\".format(spots_out.shape))\n",
    "print(\"\\r dtype: {0}\".format(spots_out.dtype))"
   ]
  },
  {
   "cell_type": "markdown",
   "metadata": {
    "deletable": false,
    "editable": false
   },
   "source": [
    "## Extract cells information"
   ]
  },
  {
   "cell_type": "markdown",
   "metadata": {
    "deletable": false,
    "editable": false
   },
   "source": [
    "**Cell extraction** is based on cell segmentation. FoV results (segmentation and detection) are assigned to each segmented cells. The function `bigfish.multistack.extract_cell` returns a list of dictionaries, one per cell. Each dictionnary can include several keys, for example:\n",
    "- *cell_mask* for the cell mask in 2D.\n",
    "- *cell_coord* for the cell boundary coordinates in 2D. (optional)\n",
    "- *nuc_mask* for the nucleus mask in 2D. (optional)\n",
    "- *nuc_coord* for the nucleus boundary coordinates in 2D. (optional)\n",
    "- *rna_coord* for the detected RNAs coordinates in 3D or 2D. (optional)\n",
    "- *others_coord* for additional coordinates in 3D or 2D. (optional)\n",
    "- *image* for an image of the cell in 2D. (optional)\n",
    "- *others_image* for additional images in 2D. (optional)"
   ]
  },
  {
   "cell_type": "code",
   "execution_count": null,
   "metadata": {
    "ExecuteTime": {
     "end_time": "2022-04-25T22:44:18.847006Z",
     "start_time": "2022-04-25T22:44:18.788813Z"
    }
   },
   "outputs": [],
   "source": [
    "fov_results = multistack.extract_cell(\n",
    "    cell_label=cell_label, \n",
    "    ndim=3, \n",
    "    nuc_label=nuc_label, \n",
    "    rna_coord=spots_no_ts, \n",
    "    others_coord={\"foci\": foci, \"transcription_site\": ts},\n",
    "    image=image_contrasted,\n",
    "    others_image={\"dapi\": nuc_mip, \"smfish\": rna_mip})\n",
    "print(\"number of cells identified: {0}\".format(len(fov_results)))"
   ]
  },
  {
   "cell_type": "markdown",
   "metadata": {},
   "source": [
    "To visualize the results of your extraction you can plot each cell with its coordinate representation (`bigfish.plot.plot_cell`) or summarize all the results in a dataframe (`bigfish.multistack.summarize_extraction_results`)."
   ]
  },
  {
   "cell_type": "markdown",
   "metadata": {},
   "source": [
    "#### (IPQDA: Figure 4 - Extract cell information)"
   ]
  },
  {
   "cell_type": "code",
   "execution_count": null,
   "metadata": {
    "ExecuteTime": {
     "end_time": "2022-04-25T22:44:20.470589Z",
     "start_time": "2022-04-25T22:44:18.849472Z"
    }
   },
   "outputs": [],
   "source": [
    "for i, cell_results in enumerate(fov_results):\n",
    "    print(\"cell {0}\".format(i))\n",
    "    \n",
    "    # get cell results\n",
    "    cell_mask = cell_results[\"cell_mask\"]\n",
    "    cell_coord = cell_results[\"cell_coord\"]\n",
    "    nuc_mask = cell_results[\"nuc_mask\"]\n",
    "    nuc_coord = cell_results[\"nuc_coord\"]\n",
    "    rna_coord = cell_results[\"rna_coord\"]\n",
    "    foci_coord = cell_results[\"foci\"]\n",
    "    ts_coord = cell_results[\"transcription_site\"]\n",
    "    image_contrasted = cell_results[\"image\"]\n",
    "    print(\"\\r number of rna {0}\".format(len(rna_coord)))\n",
    "    print(\"\\r number of foci {0}\".format(len(foci_coord)))\n",
    "    print(\"\\r number of transcription sites {0}\".format(len(ts_coord)))\n",
    "    \n",
    "    # plot cell\n",
    "    plot.plot_cell(\n",
    "        ndim=3, cell_coord=cell_coord, nuc_coord=nuc_coord, \n",
    "        rna_coord=rna_coord, foci_coord=foci_coord, other_coord=ts_coord, \n",
    "        image=image_contrasted, cell_mask=cell_mask, nuc_mask=nuc_mask, \n",
    "        title=\"Cell {0}\".format(i))"
   ]
  },
  {
   "cell_type": "markdown",
   "metadata": {},
   "source": [
    "#### (IPQDA: Table 1 - Extract cell information)"
   ]
  },
  {
   "cell_type": "code",
   "execution_count": null,
   "metadata": {
    "ExecuteTime": {
     "end_time": "2022-04-25T22:44:20.521678Z",
     "start_time": "2022-04-25T22:44:20.474790Z"
    }
   },
   "outputs": [],
   "source": [
    "df = multistack.summarize_extraction_results(fov_results, ndim=3)\n",
    "print(\"shape: {0}\".format(df.shape))\n",
    "df.head()"
   ]
  },
  {
   "cell_type": "markdown",
   "metadata": {
    "deletable": false,
    "editable": false
   },
   "source": [
    "## Save cell-level results"
   ]
  },
  {
   "cell_type": "markdown",
   "metadata": {},
   "source": [
    "To save the results obtained at the cell-level, two methods are possible:\n",
    "- Save each element in a separate file (masks in a tif file, coordinates arrays in a npy or csv file and images in png file).\n",
    "- Save everything in a **single npz file** (format specific to numpy), assigning each element with a keyword. Functions `bigfish.stack.save_cell_extracted` and `bigfish.stack.read_cell_extracted` can be used for this purpose."
   ]
  },
  {
   "cell_type": "code",
   "execution_count": 41,
   "metadata": {
    "ExecuteTime": {
     "end_time": "2022-04-25T22:44:20.554421Z",
     "start_time": "2022-04-25T22:44:20.530080Z"
    }
   },
   "outputs": [],
   "source": [
    "for i, cell_results in enumerate(fov_results):\n",
    "    # save results\n",
    "    path = os.path.join(path_output, \"results_cell_{0}.npz\".format(i))\n",
    "    stack.save_cell_extracted(cell_results, path)"
   ]
  },
  {
   "cell_type": "code",
   "execution_count": null,
   "metadata": {
    "ExecuteTime": {
     "end_time": "2022-04-25T22:44:20.573951Z",
     "start_time": "2022-04-25T22:44:20.558760Z"
    }
   },
   "outputs": [],
   "source": [
    "# read results for the first cell of the FoV\n",
    "path = os.path.join(path_output, \"results_cell_0.npz\")\n",
    "cell_results = stack.read_cell_extracted(path, verbose=True)\n",
    "print(cell_results[\"rna_coord\"])"
   ]
  }
 ],
 "metadata": {
  "kernelspec": {
   "display_name": "Python 3 (ipykernel)",
   "language": "python",
   "name": "python3"
  },
  "language_info": {
   "codemirror_mode": {
    "name": "ipython",
    "version": 3
   },
   "file_extension": ".py",
   "mimetype": "text/x-python",
   "name": "python",
   "nbconvert_exporter": "python",
   "pygments_lexer": "ipython3",
   "version": "3.9.16"
  }
 },
 "nbformat": 4,
 "nbformat_minor": 2
}
